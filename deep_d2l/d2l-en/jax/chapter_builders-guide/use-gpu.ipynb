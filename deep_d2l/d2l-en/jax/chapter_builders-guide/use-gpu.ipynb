{
 "cells": [
  {
   "cell_type": "markdown",
   "id": "51d46a77",
   "metadata": {
    "origin_pos": 1
   },
   "source": [
    "# GPUs\n",
    ":label:`sec_use_gpu`\n",
    "\n",
    "In :numref:`tab_intro_decade`, we discussed the rapid growth\n",
    "of computation over the past two decades.\n",
    "In a nutshell, GPU performance has increased\n",
    "by a factor of 1000 every decade since 2000.\n",
    "This offers great opportunities but it also suggests\n",
    "a significant need to provide such performance.\n",
    "\n",
    "\n",
    "In this section, we begin to discuss how to harness\n",
    "this computational performance for your research.\n",
    "First by using single GPUs and at a later point,\n",
    "how to use multiple GPUs and multiple servers (with multiple GPUs).\n",
    "\n",
    "Specifically, we will discuss how\n",
    "to use a single NVIDIA GPU for calculations.\n",
    "First, make sure you have at least one NVIDIA GPU installed.\n",
    "Then, download the [NVIDIA driver and CUDA](https://developer.nvidia.com/cuda-downloads)\n",
    "and follow the prompts to set the appropriate path.\n",
    "Once these preparations are complete,\n",
    "the `nvidia-smi` command can be used\n",
    "to (**view the graphics card information**).\n"
   ]
  },
  {
   "cell_type": "code",
   "execution_count": 1,
   "id": "4ece13f4",
   "metadata": {
    "execution": {
     "iopub.execute_input": "2022-12-14T10:21:10.204188Z",
     "iopub.status.busy": "2022-12-14T10:21:10.203692Z",
     "iopub.status.idle": "2022-12-14T10:21:13.403760Z",
     "shell.execute_reply": "2022-12-14T10:21:13.402497Z"
    },
    "origin_pos": 2,
    "tab": [
     "jax"
    ]
   },
   "outputs": [
    {
     "name": "stdout",
     "output_type": "stream",
     "text": [
      "Wed Dec 14 10:21:12 2022       \r\n",
      "+-----------------------------------------------------------------------------+\r\n",
      "| NVIDIA-SMI 460.106.00   Driver Version: 460.106.00   CUDA Version: 11.2     |\r\n",
      "|-------------------------------+----------------------+----------------------+\r\n",
      "| GPU  Name        Persistence-M| Bus-Id        Disp.A | Volatile Uncorr. ECC |\r\n",
      "| Fan  Temp  Perf  Pwr:Usage/Cap|         Memory-Usage | GPU-Util  Compute M. |\r\n",
      "|                               |                      |               MIG M. |\r\n",
      "|===============================+======================+======================|\r\n",
      "|   0  Tesla V100-SXM2...  Off  | 00000000:00:1B.0 Off |                    0 |\r\n",
      "| N/A   22C    P0    46W / 300W |      0MiB / 16160MiB |      0%      Default |\r\n",
      "|                               |                      |                  N/A |\r\n",
      "+-------------------------------+----------------------+----------------------+\r\n",
      "|   1  Tesla V100-SXM2...  Off  | 00000000:00:1D.0 Off |                    0 |\r\n",
      "| N/A   24C    P0    59W / 300W |  14353MiB / 16160MiB |     33%      Default |\r\n",
      "|                               |                      |                  N/A |\r\n",
      "+-------------------------------+----------------------+----------------------+\r\n"
     ]
    },
    {
     "name": "stdout",
     "output_type": "stream",
     "text": [
      "|   2  Tesla V100-SXM2...  Off  | 00000000:00:1E.0 Off |                    0 |\r\n",
      "| N/A   19C    P0    48W / 300W |      0MiB / 16160MiB |      4%      Default |\r\n",
      "|                               |                      |                  N/A |\r\n",
      "+-------------------------------+----------------------+----------------------+\r\n",
      "                                                                               \r\n",
      "+-----------------------------------------------------------------------------+\r\n",
      "| Processes:                                                                  |\r\n",
      "|  GPU   GI   CI        PID   Type   Process name                  GPU Memory |\r\n",
      "|        ID   ID                                                   Usage      |\r\n",
      "|=============================================================================|\r\n",
      "|    1   N/A  N/A     30658      C   ...l-en-release-1/bin/python    12917MiB |\r\n",
      "+-----------------------------------------------------------------------------+\r\n"
     ]
    }
   ],
   "source": [
    "!nvidia-smi"
   ]
  },
  {
   "cell_type": "markdown",
   "id": "cc598ef7",
   "metadata": {
    "origin_pos": 5
   },
   "source": [
    "To run the programs in this section,\n",
    "you need at least two GPUs.\n",
    "Note that this might be extravagant for most desktop computers\n",
    "but it is easily available in the cloud, e.g.,\n",
    "by using the AWS EC2 multi-GPU instances.\n",
    "Almost all other sections do *not* require multiple GPUs.\n",
    "Instead, this is simply to illustrate\n",
    "how data flow between different devices.\n",
    "\n",
    "## [**Computing Devices**]\n",
    "\n",
    "We can specify devices, such as CPUs and GPUs,\n",
    "for storage and calculation.\n",
    "By default, tensors are created in the main memory\n",
    "and then use the CPU to calculate it.\n"
   ]
  },
  {
   "cell_type": "code",
   "execution_count": 2,
   "id": "3a61371b",
   "metadata": {
    "execution": {
     "iopub.execute_input": "2022-12-14T10:21:13.408019Z",
     "iopub.status.busy": "2022-12-14T10:21:13.407387Z",
     "iopub.status.idle": "2022-12-14T10:21:20.493539Z",
     "shell.execute_reply": "2022-12-14T10:21:20.492676Z"
    },
    "origin_pos": 11,
    "tab": [
     "jax"
    ]
   },
   "outputs": [],
   "source": [
    "import jax\n",
    "from flax import linen as nn\n",
    "from jax import numpy as jnp\n",
    "from d2l import jax as d2l"
   ]
  },
  {
   "cell_type": "code",
   "execution_count": 3,
   "id": "d41cd0f6",
   "metadata": {
    "execution": {
     "iopub.execute_input": "2022-12-14T10:21:20.497421Z",
     "iopub.status.busy": "2022-12-14T10:21:20.496746Z",
     "iopub.status.idle": "2022-12-14T10:21:20.504077Z",
     "shell.execute_reply": "2022-12-14T10:21:20.503274Z"
    },
    "origin_pos": 12,
    "tab": [
     "jax"
    ]
   },
   "outputs": [
    {
     "data": {
      "text/plain": [
       "(CpuDevice(id=0),\n",
       " StreamExecutorGpuDevice(id=0, process_index=0, slice_index=0),\n",
       " StreamExecutorGpuDevice(id=1, process_index=0, slice_index=0))"
      ]
     },
     "execution_count": 3,
     "metadata": {},
     "output_type": "execute_result"
    }
   ],
   "source": [
    "def cpu():  #@save\n",
    "    return jax.devices('cpu')[0]\n",
    "\n",
    "def gpu(i=0):  #@save\n",
    "    return jax.devices('gpu')[i]\n",
    "\n",
    "cpu(), gpu(), gpu(1)"
   ]
  },
  {
   "cell_type": "markdown",
   "id": "bd60ccca",
   "metadata": {
    "origin_pos": 13
   },
   "source": [
    "We can (**query the number of available GPUs.**)\n"
   ]
  },
  {
   "cell_type": "code",
   "execution_count": 4,
   "id": "fc4b3b8f",
   "metadata": {
    "execution": {
     "iopub.execute_input": "2022-12-14T10:21:20.507405Z",
     "iopub.status.busy": "2022-12-14T10:21:20.506753Z",
     "iopub.status.idle": "2022-12-14T10:21:20.512145Z",
     "shell.execute_reply": "2022-12-14T10:21:20.511386Z"
    },
    "origin_pos": 14,
    "tab": [
     "jax"
    ]
   },
   "outputs": [
    {
     "data": {
      "text/plain": [
       "2"
      ]
     },
     "execution_count": 4,
     "metadata": {},
     "output_type": "execute_result"
    }
   ],
   "source": [
    "def num_gpus():  #@save\n",
    "    try:\n",
    "        return jax.device_count('gpu')\n",
    "    except:\n",
    "        return 0  # No GPU backend found\n",
    "\n",
    "num_gpus()"
   ]
  },
  {
   "cell_type": "markdown",
   "id": "34087373",
   "metadata": {
    "origin_pos": 15
   },
   "source": [
    "Now we [**define two convenient functions that allow us\n",
    "to run code even if the requested GPUs do not exist.**]\n"
   ]
  },
  {
   "cell_type": "code",
   "execution_count": 5,
   "id": "888ac6bc",
   "metadata": {
    "execution": {
     "iopub.execute_input": "2022-12-14T10:21:20.515327Z",
     "iopub.status.busy": "2022-12-14T10:21:20.514805Z",
     "iopub.status.idle": "2022-12-14T10:21:20.521575Z",
     "shell.execute_reply": "2022-12-14T10:21:20.520821Z"
    },
    "origin_pos": 16,
    "tab": [
     "jax"
    ]
   },
   "outputs": [
    {
     "data": {
      "text/plain": [
       "(StreamExecutorGpuDevice(id=0, process_index=0, slice_index=0),\n",
       " CpuDevice(id=0),\n",
       " [StreamExecutorGpuDevice(id=0, process_index=0, slice_index=0),\n",
       "  StreamExecutorGpuDevice(id=1, process_index=0, slice_index=0)])"
      ]
     },
     "execution_count": 5,
     "metadata": {},
     "output_type": "execute_result"
    }
   ],
   "source": [
    "def try_gpu(i=0):  #@save\n",
    "    \"\"\"Return gpu(i) if exists, otherwise return cpu().\"\"\"\n",
    "    if num_gpus() >= i + 1:\n",
    "        return gpu(i)\n",
    "    return cpu()\n",
    "\n",
    "def try_all_gpus():  #@save\n",
    "    \"\"\"Return all available GPUs, or [cpu(),] if no GPU exists.\"\"\"\n",
    "    return [gpu(i) for i in range(num_gpus())]\n",
    "\n",
    "try_gpu(), try_gpu(10), try_all_gpus()"
   ]
  },
  {
   "cell_type": "markdown",
   "id": "1e5f782c",
   "metadata": {
    "origin_pos": 17
   },
   "source": [
    "## Tensors and GPUs\n"
   ]
  },
  {
   "cell_type": "markdown",
   "id": "996a90e2",
   "metadata": {
    "origin_pos": 21,
    "tab": [
     "jax"
    ]
   },
   "source": [
    "By default, tensors are created on the GPU/TPU if they are available,\n",
    "else CPU is used if not available.\n",
    "We can [**query the device where the tensor is located.**]\n"
   ]
  },
  {
   "cell_type": "code",
   "execution_count": 6,
   "id": "f152a634",
   "metadata": {
    "execution": {
     "iopub.execute_input": "2022-12-14T10:21:20.524949Z",
     "iopub.status.busy": "2022-12-14T10:21:20.524321Z",
     "iopub.status.idle": "2022-12-14T10:21:20.530924Z",
     "shell.execute_reply": "2022-12-14T10:21:20.530158Z"
    },
    "origin_pos": 25,
    "tab": [
     "jax"
    ]
   },
   "outputs": [
    {
     "data": {
      "text/plain": [
       "StreamExecutorGpuDevice(id=0, process_index=0, slice_index=0)"
      ]
     },
     "execution_count": 6,
     "metadata": {},
     "output_type": "execute_result"
    }
   ],
   "source": [
    "x = jnp.array([1, 2, 3])\n",
    "x.device()"
   ]
  },
  {
   "cell_type": "markdown",
   "id": "8119b42f",
   "metadata": {
    "origin_pos": 26
   },
   "source": [
    "It is important to note that whenever we want\n",
    "to operate on multiple terms,\n",
    "they need to be on the same device.\n",
    "For instance, if we sum two tensors,\n",
    "we need to make sure that both arguments\n",
    "live on the same device---otherwise the framework\n",
    "would not know where to store the result\n",
    "or even how to decide where to perform the computation.\n",
    "\n",
    "### Storage on the GPU\n",
    "\n",
    "There are several ways to [**store a tensor on the GPU.**]\n",
    "For example, we can specify a storage device when creating a tensor.\n",
    "Next, we create the tensor variable `X` on the first `gpu`.\n",
    "The tensor created on a GPU only consumes the memory of this GPU.\n",
    "We can use the `nvidia-smi` command to view GPU memory usage.\n",
    "In general, we need to make sure that we do not create data that exceeds the GPU memory limit.\n"
   ]
  },
  {
   "cell_type": "code",
   "execution_count": 7,
   "id": "334342e4",
   "metadata": {
    "execution": {
     "iopub.execute_input": "2022-12-14T10:21:20.534151Z",
     "iopub.status.busy": "2022-12-14T10:21:20.533625Z",
     "iopub.status.idle": "2022-12-14T10:21:20.623185Z",
     "shell.execute_reply": "2022-12-14T10:21:20.622368Z"
    },
    "origin_pos": 30,
    "tab": [
     "jax"
    ]
   },
   "outputs": [
    {
     "data": {
      "text/plain": [
       "Array([[1., 1., 1.],\n",
       "       [1., 1., 1.]], dtype=float32)"
      ]
     },
     "execution_count": 7,
     "metadata": {},
     "output_type": "execute_result"
    }
   ],
   "source": [
    "# By default jax puts arrays to GPUs or TPUs if available\n",
    "X = jax.device_put(jnp.ones((2, 3)), try_gpu())\n",
    "X"
   ]
  },
  {
   "cell_type": "markdown",
   "id": "d3b32795",
   "metadata": {
    "origin_pos": 31
   },
   "source": [
    "Assuming that you have at least two GPUs, the following code will (**create a random tensor on the second GPU.**)\n"
   ]
  },
  {
   "cell_type": "code",
   "execution_count": 8,
   "id": "f70f43a5",
   "metadata": {
    "execution": {
     "iopub.execute_input": "2022-12-14T10:21:20.626753Z",
     "iopub.status.busy": "2022-12-14T10:21:20.626037Z",
     "iopub.status.idle": "2022-12-14T10:21:21.836557Z",
     "shell.execute_reply": "2022-12-14T10:21:21.835753Z"
    },
    "origin_pos": 35,
    "tab": [
     "jax"
    ]
   },
   "outputs": [
    {
     "data": {
      "text/plain": [
       "Array([[0.57450044, 0.09968603, 0.7419659 ],\n",
       "       [0.8941783 , 0.59656656, 0.45325184]], dtype=float32)"
      ]
     },
     "execution_count": 8,
     "metadata": {},
     "output_type": "execute_result"
    }
   ],
   "source": [
    "Y = jax.device_put(jax.random.uniform(jax.random.PRNGKey(0), (2, 3)),\n",
    "                   try_gpu(1))\n",
    "Y"
   ]
  },
  {
   "cell_type": "markdown",
   "id": "75b7827f",
   "metadata": {
    "origin_pos": 36
   },
   "source": [
    "### Copying\n",
    "\n",
    "[**If we want to compute `X + Y`,\n",
    "we need to decide where to perform this operation.**]\n",
    "For instance, as shown in :numref:`fig_copyto`,\n",
    "we can transfer `X` to the second GPU\n",
    "and perform the operation there.\n",
    "*Do not* simply add `X` and `Y`,\n",
    "since this will result in an exception.\n",
    "The runtime engine would not know what to do:\n",
    "it cannot find data on the same device and it fails.\n",
    "Since `Y` lives on the second GPU,\n",
    "we need to move `X` there before we can add the two.\n",
    "\n",
    "![Copy data to perform an operation on the same device.](../img/copyto.svg)\n",
    ":label:`fig_copyto`\n"
   ]
  },
  {
   "cell_type": "code",
   "execution_count": 9,
   "id": "f1f9b5c3",
   "metadata": {
    "execution": {
     "iopub.execute_input": "2022-12-14T10:21:21.839916Z",
     "iopub.status.busy": "2022-12-14T10:21:21.839454Z",
     "iopub.status.idle": "2022-12-14T10:21:21.844849Z",
     "shell.execute_reply": "2022-12-14T10:21:21.844077Z"
    },
    "origin_pos": 40,
    "tab": [
     "jax"
    ]
   },
   "outputs": [
    {
     "name": "stdout",
     "output_type": "stream",
     "text": [
      "[[1. 1. 1.]\n",
      " [1. 1. 1.]]\n",
      "[[1. 1. 1.]\n",
      " [1. 1. 1.]]\n"
     ]
    }
   ],
   "source": [
    "Z = jax.device_put(X, try_gpu(1))\n",
    "print(X)\n",
    "print(Z)"
   ]
  },
  {
   "cell_type": "markdown",
   "id": "74638f8b",
   "metadata": {
    "origin_pos": 41
   },
   "source": [
    "Now that [**the data is on the same GPU\n",
    "(both `Z` and `Y` are),\n",
    "we can add them up.**]\n"
   ]
  },
  {
   "cell_type": "code",
   "execution_count": 10,
   "id": "cdf2f1c2",
   "metadata": {
    "execution": {
     "iopub.execute_input": "2022-12-14T10:21:21.848149Z",
     "iopub.status.busy": "2022-12-14T10:21:21.847503Z",
     "iopub.status.idle": "2022-12-14T10:21:21.947909Z",
     "shell.execute_reply": "2022-12-14T10:21:21.947094Z"
    },
    "origin_pos": 42,
    "tab": [
     "jax"
    ]
   },
   "outputs": [
    {
     "data": {
      "text/plain": [
       "Array([[1.5745004, 1.099686 , 1.7419659],\n",
       "       [1.8941783, 1.5965666, 1.4532518]], dtype=float32)"
      ]
     },
     "execution_count": 10,
     "metadata": {},
     "output_type": "execute_result"
    }
   ],
   "source": [
    "Y + Z"
   ]
  },
  {
   "cell_type": "markdown",
   "id": "b23a2454",
   "metadata": {
    "origin_pos": 46,
    "tab": [
     "jax"
    ]
   },
   "source": [
    "Imagine that your variable `Z` already lives on your second GPU.\n",
    "What happens if we still call `Z2 = Z` under the same device scope?\n",
    "It will return `Z` instead of making a copy and allocating new memory.\n"
   ]
  },
  {
   "cell_type": "code",
   "execution_count": 11,
   "id": "49803f5d",
   "metadata": {
    "execution": {
     "iopub.execute_input": "2022-12-14T10:21:21.951331Z",
     "iopub.status.busy": "2022-12-14T10:21:21.950856Z",
     "iopub.status.idle": "2022-12-14T10:21:21.956268Z",
     "shell.execute_reply": "2022-12-14T10:21:21.955518Z"
    },
    "origin_pos": 50,
    "tab": [
     "jax"
    ]
   },
   "outputs": [
    {
     "data": {
      "text/plain": [
       "True"
      ]
     },
     "execution_count": 11,
     "metadata": {},
     "output_type": "execute_result"
    }
   ],
   "source": [
    "Z2 = jax.device_put(Z, try_gpu(1))\n",
    "Z2 is Z"
   ]
  },
  {
   "cell_type": "markdown",
   "id": "7ee83b90",
   "metadata": {
    "origin_pos": 51
   },
   "source": [
    "### Side Notes\n",
    "\n",
    "People use GPUs to do machine learning\n",
    "because they expect them to be fast.\n",
    "But transferring variables between devices is slow.\n",
    "So we want you to be 100% certain\n",
    "that you want to do something slow before we let you do it.\n",
    "If the deep learning framework just did the copy automatically\n",
    "without crashing then you might not realize\n",
    "that you had written some slow code.\n",
    "\n",
    "Also, transferring data between devices (CPU, GPUs, and other machines)\n",
    "is something that is much slower than computation.\n",
    "It also makes parallelization a lot more difficult,\n",
    "since we have to wait for data to be sent (or rather to be received)\n",
    "before we can proceed with more operations.\n",
    "This is why copy operations should be taken with great care.\n",
    "As a rule of thumb, many small operations\n",
    "are much worse than one big operation.\n",
    "Moreover, several operations at a time\n",
    "are much better than many single operations interspersed in the code\n",
    "unless you know what you are doing.\n",
    "This is the case since such operations can block if one device\n",
    "has to wait for the other before it can do something else.\n",
    "It is a bit like ordering your coffee in a queue\n",
    "rather than pre-ordering it by phone\n",
    "and finding out that it is ready when you are.\n",
    "\n",
    "Last, when we print tensors or convert tensors to the NumPy format,\n",
    "if the data is not in the main memory,\n",
    "the framework will copy it to the main memory first,\n",
    "resulting in additional transmission overhead.\n",
    "Even worse, it is now subject to the dreaded global interpreter lock\n",
    "that makes everything wait for Python to complete.\n",
    "\n",
    "\n",
    "## [**Neural Networks and GPUs**]\n",
    "\n",
    "Similarly, a neural network model can specify devices.\n",
    "The following code puts the model parameters on the GPU.\n"
   ]
  },
  {
   "cell_type": "code",
   "execution_count": 12,
   "id": "2922392c",
   "metadata": {
    "execution": {
     "iopub.execute_input": "2022-12-14T10:21:21.959579Z",
     "iopub.status.busy": "2022-12-14T10:21:21.958948Z",
     "iopub.status.idle": "2022-12-14T10:21:23.194888Z",
     "shell.execute_reply": "2022-12-14T10:21:23.193978Z"
    },
    "origin_pos": 55,
    "tab": [
     "jax"
    ]
   },
   "outputs": [],
   "source": [
    "net = nn.Sequential([nn.Dense(1)])\n",
    "\n",
    "key1, key2 = jax.random.split(jax.random.PRNGKey(0))\n",
    "x = jax.random.normal(key1, (10,))  # Dummy input\n",
    "params = net.init(key2, x)  # Initialization call"
   ]
  },
  {
   "cell_type": "markdown",
   "id": "5bc5330a",
   "metadata": {
    "origin_pos": 56
   },
   "source": [
    "We will see many more examples of\n",
    "how to run models on GPUs in the following chapters,\n",
    "simply since they will become somewhat more computationally intensive.\n",
    "\n",
    "When the input is a tensor on the GPU, the model will calculate the result on the same GPU.\n"
   ]
  },
  {
   "cell_type": "code",
   "execution_count": 13,
   "id": "38190b6b",
   "metadata": {
    "execution": {
     "iopub.execute_input": "2022-12-14T10:21:23.199622Z",
     "iopub.status.busy": "2022-12-14T10:21:23.199147Z",
     "iopub.status.idle": "2022-12-14T10:21:23.225178Z",
     "shell.execute_reply": "2022-12-14T10:21:23.224426Z"
    },
    "origin_pos": 58,
    "tab": [
     "jax"
    ]
   },
   "outputs": [
    {
     "data": {
      "text/plain": [
       "Array([-1.2849933], dtype=float32)"
      ]
     },
     "execution_count": 13,
     "metadata": {},
     "output_type": "execute_result"
    }
   ],
   "source": [
    "net.apply(params, x)"
   ]
  },
  {
   "cell_type": "markdown",
   "id": "5326ab17",
   "metadata": {
    "origin_pos": 59
   },
   "source": [
    "Let's (**confirm that the model parameters are stored on the same GPU.**)\n"
   ]
  },
  {
   "cell_type": "code",
   "execution_count": 14,
   "id": "5c9ccfd6",
   "metadata": {
    "execution": {
     "iopub.execute_input": "2022-12-14T10:21:23.229709Z",
     "iopub.status.busy": "2022-12-14T10:21:23.229048Z",
     "iopub.status.idle": "2022-12-14T10:21:23.233580Z",
     "shell.execute_reply": "2022-12-14T10:21:23.232805Z"
    },
    "origin_pos": 63,
    "tab": [
     "jax"
    ]
   },
   "outputs": [
    {
     "name": "stdout",
     "output_type": "stream",
     "text": [
      "FrozenDict({\n",
      "    params: {\n",
      "        layers_0: {\n",
      "            bias: StreamExecutorGpuDevice(id=0, process_index=0, slice_index=0),\n",
      "            kernel: StreamExecutorGpuDevice(id=0, process_index=0, slice_index=0),\n",
      "        },\n",
      "    },\n",
      "})\n"
     ]
    }
   ],
   "source": [
    "print(jax.tree_util.tree_map(lambda x: x.device(), params))"
   ]
  },
  {
   "cell_type": "markdown",
   "id": "663b7cd8",
   "metadata": {
    "origin_pos": 64
   },
   "source": [
    "Let the trainer support GPU.\n"
   ]
  },
  {
   "cell_type": "code",
   "execution_count": 15,
   "id": "6a2da206",
   "metadata": {
    "execution": {
     "iopub.execute_input": "2022-12-14T10:21:23.236985Z",
     "iopub.status.busy": "2022-12-14T10:21:23.236368Z",
     "iopub.status.idle": "2022-12-14T10:21:23.241738Z",
     "shell.execute_reply": "2022-12-14T10:21:23.240941Z"
    },
    "origin_pos": 67,
    "tab": [
     "jax"
    ]
   },
   "outputs": [],
   "source": [
    "@d2l.add_to_class(d2l.Trainer)  #@save\n",
    "def __init__(self, max_epochs, num_gpus=0, gradient_clip_val=0):\n",
    "    self.save_hyperparameters()\n",
    "    self.gpus = [d2l.gpu(i) for i in range(min(num_gpus, d2l.num_gpus()))]\n",
    "\n",
    "@d2l.add_to_class(d2l.Trainer)  #@save\n",
    "def prepare_batch(self, batch):\n",
    "    if self.gpus:\n",
    "        batch = [jax.device_put(a, self.gpus[0]) for a in batch]\n",
    "    return batch"
   ]
  },
  {
   "cell_type": "markdown",
   "id": "ca858256",
   "metadata": {
    "origin_pos": 68
   },
   "source": [
    "In short, as long as all data and parameters are on the same device, we can learn models efficiently. In the following chapters we will see several such examples.\n",
    "\n",
    "## Summary\n",
    "\n",
    "We can specify devices for storage and calculation, such as the CPU or GPU.\n",
    "  By default, data is created in the main memory\n",
    "  and then uses the CPU for calculations.\n",
    "The deep learning framework requires all input data for calculation\n",
    "  to be on the same device,\n",
    "  be it CPU or the same GPU.\n",
    "You can lose significant performance by moving data without care.\n",
    "  A typical mistake is as follows: computing the loss\n",
    "  for every minibatch on the GPU and reporting it back\n",
    "  to the user on the command line (or logging it in a NumPy `ndarray`)\n",
    "  will trigger a global interpreter lock which stalls all GPUs.\n",
    "  It is much better to allocate memory\n",
    "  for logging inside the GPU and only move larger logs.\n",
    "\n",
    "## Exercises\n",
    "\n",
    "1. Try a larger computation task, such as the multiplication of large matrices,\n",
    "   and see the difference in speed between the CPU and GPU.\n",
    "   What about a task with a small amount of calculations?\n",
    "1. How should we read and write model parameters on the GPU?\n",
    "1. Measure the time it takes to compute 1000\n",
    "   matrix-matrix multiplications of $100 \\times 100$ matrices\n",
    "   and log the Frobenius norm of the output matrix one result at a time\n",
    "   vs. keeping a log on the GPU and transferring only the final result.\n",
    "1. Measure how much time it takes to perform two matrix-matrix multiplications\n",
    "   on two GPUs at the same time vs. in sequence\n",
    "   on one GPU. Hint: you should see almost linear scaling.\n"
   ]
  }
 ],
 "metadata": {
  "language_info": {
   "name": "python"
  }
 },
 "nbformat": 4,
 "nbformat_minor": 5
}