{
 "cells": [
  {
   "cell_type": "markdown",
   "id": "49cb2f2c",
   "metadata": {
    "origin_pos": 0
   },
   "source": [
    "# Custom Layers\n",
    "\n",
    "One factor behind deep learning's success\n",
    "is the availability of a wide range of layers\n",
    "that can be composed in creative ways\n",
    "to design architectures suitable\n",
    "for a wide variety of tasks.\n",
    "For instance, researchers have invented layers\n",
    "specifically for handling images, text,\n",
    "looping over sequential data,\n",
    "and\n",
    "performing dynamic programming.\n",
    "Sooner or later, you will encounter or invent\n",
    "a layer that does not exist yet in the deep learning framework.\n",
    "In these cases, you must build a custom layer.\n",
    "In this section, we show you how.\n",
    "\n",
    "## (**Layers without Parameters**)\n",
    "\n",
    "To start, we construct a custom layer\n",
    "that does not have any parameters of its own.\n",
    "This should look familiar if you recall our\n",
    "introduction to module in :numref:`sec_model_construction`.\n",
    "The following `CenteredLayer` class simply\n",
    "subtracts the mean from its input.\n",
    "To build it, we simply need to inherit\n",
    "from the base layer class and implement the forward propagation function.\n"
   ]
  },
  {
   "cell_type": "code",
   "execution_count": 1,
   "id": "00049d30",
   "metadata": {
    "execution": {
     "iopub.execute_input": "2022-12-14T10:11:36.195342Z",
     "iopub.status.busy": "2022-12-14T10:11:36.195063Z",
     "iopub.status.idle": "2022-12-14T10:11:41.531910Z",
     "shell.execute_reply": "2022-12-14T10:11:41.531019Z"
    },
    "origin_pos": 5,
    "tab": [
     "jax"
    ]
   },
   "outputs": [
    {
     "name": "stdout",
     "output_type": "stream",
     "text": [
      "No GPU/TPU found, falling back to CPU. (Set TF_CPP_MIN_LOG_LEVEL=0 and rerun for more info.)\n"
     ]
    }
   ],
   "source": [
    "import jax\n",
    "from flax import linen as nn\n",
    "from jax import numpy as jnp\n",
    "from d2l import jax as d2l\n",
    "\n",
    "\n",
    "class CenteredLayer(nn.Module):\n",
    "    def __call__(self, X):\n",
    "        return X - X.mean()"
   ]
  },
  {
   "cell_type": "markdown",
   "id": "ed354876",
   "metadata": {
    "origin_pos": 6
   },
   "source": [
    "Let's verify that our layer works as intended by feeding some data through it.\n"
   ]
  },
  {
   "cell_type": "code",
   "execution_count": 2,
   "id": "1fb1e71f",
   "metadata": {
    "execution": {
     "iopub.execute_input": "2022-12-14T10:11:41.536187Z",
     "iopub.status.busy": "2022-12-14T10:11:41.535392Z",
     "iopub.status.idle": "2022-12-14T10:11:41.576197Z",
     "shell.execute_reply": "2022-12-14T10:11:41.575363Z"
    },
    "origin_pos": 7,
    "tab": [
     "jax"
    ]
   },
   "outputs": [
    {
     "data": {
      "text/plain": [
       "Array([-2., -1.,  0.,  1.,  2.], dtype=float32)"
      ]
     },
     "execution_count": 2,
     "metadata": {},
     "output_type": "execute_result"
    }
   ],
   "source": [
    "layer = CenteredLayer()\n",
    "layer(jnp.array([1.0, 2, 3, 4, 5]))"
   ]
  },
  {
   "cell_type": "markdown",
   "id": "1abb691c",
   "metadata": {
    "origin_pos": 8
   },
   "source": [
    "We can now [**incorporate our layer as a component\n",
    "in constructing more complex models.**]\n"
   ]
  },
  {
   "cell_type": "code",
   "execution_count": 3,
   "id": "246c015e",
   "metadata": {
    "execution": {
     "iopub.execute_input": "2022-12-14T10:11:41.579713Z",
     "iopub.status.busy": "2022-12-14T10:11:41.579161Z",
     "iopub.status.idle": "2022-12-14T10:11:41.583076Z",
     "shell.execute_reply": "2022-12-14T10:11:41.582318Z"
    },
    "origin_pos": 12,
    "tab": [
     "jax"
    ]
   },
   "outputs": [],
   "source": [
    "net = nn.Sequential([nn.Dense(128), CenteredLayer()])"
   ]
  },
  {
   "cell_type": "markdown",
   "id": "358af3cf",
   "metadata": {
    "origin_pos": 13
   },
   "source": [
    "As an extra sanity check, we can send random data\n",
    "through the network and check that the mean is in fact 0.\n",
    "Because we are dealing with floating point numbers,\n",
    "we may still see a very small nonzero number\n",
    "due to quantization.\n"
   ]
  },
  {
   "cell_type": "markdown",
   "id": "5cc1b703",
   "metadata": {
    "origin_pos": 14,
    "tab": [
     "jax"
    ]
   },
   "source": [
    "Here we utilize the `init_with_output` method which returns both the output of\n",
    "the network as well as the parameters. In this case we only focus on the\n",
    "output.\n"
   ]
  },
  {
   "cell_type": "code",
   "execution_count": 4,
   "id": "c0b8571e",
   "metadata": {
    "execution": {
     "iopub.execute_input": "2022-12-14T10:11:41.587094Z",
     "iopub.status.busy": "2022-12-14T10:11:41.586308Z",
     "iopub.status.idle": "2022-12-14T10:11:42.222625Z",
     "shell.execute_reply": "2022-12-14T10:11:42.221854Z"
    },
    "origin_pos": 17,
    "tab": [
     "jax"
    ]
   },
   "outputs": [
    {
     "data": {
      "text/plain": [
       "Array(-1.8626451e-09, dtype=float32)"
      ]
     },
     "execution_count": 4,
     "metadata": {},
     "output_type": "execute_result"
    }
   ],
   "source": [
    "Y, _ = net.init_with_output(d2l.get_key(), jax.random.uniform(d2l.get_key(),\n",
    "                                                              (4, 8)))\n",
    "Y.mean()"
   ]
  },
  {
   "cell_type": "markdown",
   "id": "39ee6514",
   "metadata": {
    "origin_pos": 18
   },
   "source": [
    "## [**Layers with Parameters**]\n",
    "\n",
    "Now that we know how to define simple layers,\n",
    "let's move on to defining layers with parameters\n",
    "that can be adjusted through training.\n",
    "We can use built-in functions to create parameters, which\n",
    "provide some basic housekeeping functionality.\n",
    "In particular, they govern access, initialization,\n",
    "sharing, saving, and loading model parameters.\n",
    "This way, among other benefits, we will not need to write\n",
    "custom serialization routines for every custom layer.\n",
    "\n",
    "Now let's implement our own version of the  fully connected layer.\n",
    "Recall that this layer requires two parameters,\n",
    "one to represent the weight and the other for the bias.\n",
    "In this implementation, we bake in the ReLU activation as a default.\n",
    "This layer requires two input arguments: `in_units` and `units`, which\n",
    "denote the number of inputs and outputs, respectively.\n"
   ]
  },
  {
   "cell_type": "code",
   "execution_count": 5,
   "id": "71495281",
   "metadata": {
    "execution": {
     "iopub.execute_input": "2022-12-14T10:11:42.227267Z",
     "iopub.status.busy": "2022-12-14T10:11:42.226683Z",
     "iopub.status.idle": "2022-12-14T10:11:42.232804Z",
     "shell.execute_reply": "2022-12-14T10:11:42.232089Z"
    },
    "origin_pos": 22,
    "tab": [
     "jax"
    ]
   },
   "outputs": [],
   "source": [
    "class MyDense(nn.Module):\n",
    "    in_units: int\n",
    "    units: int\n",
    "\n",
    "    def setup(self):\n",
    "        self.weight = self.param('weight', nn.initializers.normal(stddev=1),\n",
    "                                 (self.in_units, self.units))\n",
    "        self.bias = self.param('bias', nn.initializers.zeros, self.units)\n",
    "\n",
    "    def __call__(self, X):\n",
    "        linear = jnp.matmul(X, self.weight) + self.bias\n",
    "        return nn.relu(linear)"
   ]
  },
  {
   "cell_type": "markdown",
   "id": "a49327fe",
   "metadata": {
    "origin_pos": 23,
    "tab": [
     "jax"
    ]
   },
   "source": [
    "Next, we instantiate the `MyDense` class\n",
    "and access its model parameters.\n"
   ]
  },
  {
   "cell_type": "code",
   "execution_count": 6,
   "id": "b1b4066b",
   "metadata": {
    "execution": {
     "iopub.execute_input": "2022-12-14T10:11:42.237017Z",
     "iopub.status.busy": "2022-12-14T10:11:42.236512Z",
     "iopub.status.idle": "2022-12-14T10:11:42.489865Z",
     "shell.execute_reply": "2022-12-14T10:11:42.489056Z"
    },
    "origin_pos": 28,
    "tab": [
     "jax"
    ]
   },
   "outputs": [
    {
     "data": {
      "text/plain": [
       "FrozenDict({\n",
       "    params: {\n",
       "        weight: Array([[ 0.6913498 ,  0.6446085 ,  1.2337872 ],\n",
       "               [-0.70398325, -0.25442073,  0.62290514],\n",
       "               [ 1.986929  , -0.6452989 , -1.5683146 ],\n",
       "               [-0.6126453 , -0.92339176, -0.95920664],\n",
       "               [ 0.49420202, -0.6243739 , -1.549338  ]], dtype=float32),\n",
       "        bias: Array([0., 0., 0.], dtype=float32),\n",
       "    },\n",
       "})"
      ]
     },
     "execution_count": 6,
     "metadata": {},
     "output_type": "execute_result"
    }
   ],
   "source": [
    "dense = MyDense(5, 3)\n",
    "params = dense.init(d2l.get_key(), jnp.zeros((3, 5)))\n",
    "params"
   ]
  },
  {
   "cell_type": "markdown",
   "id": "ca1bc69c",
   "metadata": {
    "origin_pos": 29
   },
   "source": [
    "We can [**directly carry out forward propagation calculations using custom layers.**]\n"
   ]
  },
  {
   "cell_type": "code",
   "execution_count": 7,
   "id": "0b8845b8",
   "metadata": {
    "execution": {
     "iopub.execute_input": "2022-12-14T10:11:42.494542Z",
     "iopub.status.busy": "2022-12-14T10:11:42.493890Z",
     "iopub.status.idle": "2022-12-14T10:11:42.685957Z",
     "shell.execute_reply": "2022-12-14T10:11:42.685148Z"
    },
    "origin_pos": 33,
    "tab": [
     "jax"
    ]
   },
   "outputs": [
    {
     "data": {
      "text/plain": [
       "Array([[0.8806946, 0.       , 0.       ],\n",
       "       [1.6558303, 0.       , 0.       ]], dtype=float32)"
      ]
     },
     "execution_count": 7,
     "metadata": {},
     "output_type": "execute_result"
    }
   ],
   "source": [
    "dense.apply(params, jax.random.uniform(d2l.get_key(),\n",
    "                                       (2, 5)))"
   ]
  },
  {
   "cell_type": "markdown",
   "id": "d2f336fc",
   "metadata": {
    "origin_pos": 34
   },
   "source": [
    "We can also (**construct models using custom layers.**)\n",
    "Once we have that we can use it just like the built-in fully connected layer.\n"
   ]
  },
  {
   "cell_type": "code",
   "execution_count": 8,
   "id": "bdcba439",
   "metadata": {
    "execution": {
     "iopub.execute_input": "2022-12-14T10:11:42.690625Z",
     "iopub.status.busy": "2022-12-14T10:11:42.690060Z",
     "iopub.status.idle": "2022-12-14T10:11:43.343905Z",
     "shell.execute_reply": "2022-12-14T10:11:43.343127Z"
    },
    "origin_pos": 38,
    "tab": [
     "jax"
    ]
   },
   "outputs": [
    {
     "data": {
      "text/plain": [
       "Array([[0.],\n",
       "       [0.]], dtype=float32)"
      ]
     },
     "execution_count": 8,
     "metadata": {},
     "output_type": "execute_result"
    }
   ],
   "source": [
    "net = nn.Sequential([MyDense(64, 8), MyDense(8, 1)])\n",
    "Y, _ = net.init_with_output(d2l.get_key(), jax.random.uniform(d2l.get_key(),\n",
    "                                                              (2, 64)))\n",
    "Y"
   ]
  },
  {
   "cell_type": "markdown",
   "id": "a0edf832",
   "metadata": {
    "origin_pos": 39
   },
   "source": [
    "## Summary\n",
    "\n",
    "We can design custom layers via the basic layer class. This allows us to define flexible new layers that behave differently from any existing layers in the library.\n",
    "Once defined, custom layers can be invoked in arbitrary contexts and architectures.\n",
    "Layers can have local parameters, which can be created through built-in functions.\n",
    "\n",
    "\n",
    "## Exercises\n",
    "\n",
    "1. Design a layer that takes an input and computes a tensor reduction,\n",
    "   i.e., it returns $y_k = \\sum_{i, j} W_{ijk} x_i x_j$.\n",
    "1. Design a layer that returns the leading half of the Fourier coefficients of the data.\n"
   ]
  }
 ],
 "metadata": {
  "language_info": {
   "name": "python"
  }
 },
 "nbformat": 4,
 "nbformat_minor": 5
}