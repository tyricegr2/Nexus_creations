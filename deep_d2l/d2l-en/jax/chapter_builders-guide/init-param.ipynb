{
 "cells": [
  {
   "cell_type": "markdown",
   "id": "83fb7325",
   "metadata": {
    "origin_pos": 0
   },
   "source": [
    "# Parameter Initialization\n",
    "\n",
    "Now that we know how to access the parameters,\n",
    "let's look at how to initialize them properly.\n",
    "We discussed the need for proper initialization in :numref:`sec_numerical_stability`.\n",
    "The deep learning framework provides default random initializations to its layers.\n",
    "However, we often want to initialize our weights\n",
    "according to various other protocols. The framework provides most commonly\n",
    "used protocols, and also allows to create a custom initializer.\n"
   ]
  },
  {
   "cell_type": "markdown",
   "id": "3c34cab7",
   "metadata": {
    "origin_pos": 4,
    "tab": [
     "jax"
    ]
   },
   "source": [
    "By default, Flax initializes weights using `jax.nn.initializers.lecun_normal`,\n",
    "i.e., by drawing samples from a truncated normal distribution centered on 0 with\n",
    "the standard deviation set as the squared root of $1 / \\text{fan}_{\\text{in}}$\n",
    "where `fan_in` is the number of input units in the weight tensor. The bias\n",
    "parameters are all set to zero.\n",
    "Jax's `nn.initializers` module provides a variety\n",
    "of preset initialization methods.\n"
   ]
  },
  {
   "cell_type": "code",
   "execution_count": 1,
   "id": "ffe812ef",
   "metadata": {
    "execution": {
     "iopub.execute_input": "2022-12-14T10:24:04.219614Z",
     "iopub.status.busy": "2022-12-14T10:24:04.218994Z",
     "iopub.status.idle": "2022-12-14T10:24:11.452801Z",
     "shell.execute_reply": "2022-12-14T10:24:11.451976Z"
    },
    "origin_pos": 9,
    "tab": [
     "jax"
    ]
   },
   "outputs": [
    {
     "name": "stdout",
     "output_type": "stream",
     "text": [
      "No GPU/TPU found, falling back to CPU. (Set TF_CPP_MIN_LOG_LEVEL=0 and rerun for more info.)\n"
     ]
    },
    {
     "data": {
      "text/plain": [
       "(2, 1)"
      ]
     },
     "execution_count": 1,
     "metadata": {},
     "output_type": "execute_result"
    }
   ],
   "source": [
    "import jax\n",
    "from flax import linen as nn\n",
    "from jax import numpy as jnp\n",
    "from d2l import jax as d2l\n",
    "\n",
    "net = nn.Sequential([nn.Dense(8), nn.relu, nn.Dense(1)])\n",
    "X = jax.random.uniform(d2l.get_key(), (2, 4))\n",
    "params = net.init(d2l.get_key(), X)\n",
    "net.apply(params, X).shape"
   ]
  },
  {
   "cell_type": "markdown",
   "id": "7a49881f",
   "metadata": {
    "origin_pos": 10
   },
   "source": [
    "## [**Built-in Initialization**]\n",
    "\n",
    "Let's begin by calling on built-in initializers.\n",
    "The code below initializes all weight parameters\n",
    "as Gaussian random variables\n",
    "with standard deviation 0.01, while bias parameters cleared to zero.\n"
   ]
  },
  {
   "cell_type": "code",
   "execution_count": 2,
   "id": "7f7118dd",
   "metadata": {
    "execution": {
     "iopub.execute_input": "2022-12-14T10:24:11.456605Z",
     "iopub.status.busy": "2022-12-14T10:24:11.455879Z",
     "iopub.status.idle": "2022-12-14T10:24:11.822250Z",
     "shell.execute_reply": "2022-12-14T10:24:11.821405Z"
    },
    "origin_pos": 14,
    "tab": [
     "jax"
    ]
   },
   "outputs": [
    {
     "data": {
      "text/plain": [
       "(Array([-0.00763717,  0.00054529,  0.01311344,  0.01136602], dtype=float32),\n",
       " Array(0., dtype=float32))"
      ]
     },
     "execution_count": 2,
     "metadata": {},
     "output_type": "execute_result"
    }
   ],
   "source": [
    "weight_init = nn.initializers.normal(0.01)\n",
    "bias_init = nn.initializers.zeros\n",
    "\n",
    "net = nn.Sequential([nn.Dense(8, kernel_init=weight_init, bias_init=bias_init),\n",
    "                     nn.relu,\n",
    "                     nn.Dense(1, kernel_init=weight_init, bias_init=bias_init)])\n",
    "\n",
    "params = net.init(jax.random.PRNGKey(d2l.get_seed()), X)\n",
    "layer_0 = params['params']['layers_0']\n",
    "layer_0['kernel'][:, 0], layer_0['bias'][0]"
   ]
  },
  {
   "cell_type": "markdown",
   "id": "cad34caf",
   "metadata": {
    "origin_pos": 15
   },
   "source": [
    "We can also initialize all the parameters\n",
    "to a given constant value (say, 1).\n"
   ]
  },
  {
   "cell_type": "code",
   "execution_count": 3,
   "id": "12b365dc",
   "metadata": {
    "execution": {
     "iopub.execute_input": "2022-12-14T10:24:11.825779Z",
     "iopub.status.busy": "2022-12-14T10:24:11.825227Z",
     "iopub.status.idle": "2022-12-14T10:24:11.866958Z",
     "shell.execute_reply": "2022-12-14T10:24:11.866171Z"
    },
    "origin_pos": 19,
    "tab": [
     "jax"
    ]
   },
   "outputs": [
    {
     "data": {
      "text/plain": [
       "(Array([1., 1., 1., 1.], dtype=float32), Array(0., dtype=float32))"
      ]
     },
     "execution_count": 3,
     "metadata": {},
     "output_type": "execute_result"
    }
   ],
   "source": [
    "weight_init = nn.initializers.constant(1)\n",
    "\n",
    "net = nn.Sequential([nn.Dense(8, kernel_init=weight_init, bias_init=bias_init),\n",
    "                     nn.relu,\n",
    "                     nn.Dense(1, kernel_init=weight_init, bias_init=bias_init)])\n",
    "\n",
    "params = net.init(jax.random.PRNGKey(d2l.get_seed()), X)\n",
    "layer_0 = params['params']['layers_0']\n",
    "layer_0['kernel'][:, 0], layer_0['bias'][0]"
   ]
  },
  {
   "cell_type": "markdown",
   "id": "304fa8af",
   "metadata": {
    "origin_pos": 20
   },
   "source": [
    "[**We can also apply different initializers for certain blocks.**]\n",
    "For example, below we initialize the first layer\n",
    "with the Xavier initializer\n",
    "and initialize the second layer\n",
    "to a constant value of 42.\n"
   ]
  },
  {
   "cell_type": "code",
   "execution_count": 4,
   "id": "acdf0efd",
   "metadata": {
    "execution": {
     "iopub.execute_input": "2022-12-14T10:24:11.870231Z",
     "iopub.status.busy": "2022-12-14T10:24:11.869715Z",
     "iopub.status.idle": "2022-12-14T10:24:12.010127Z",
     "shell.execute_reply": "2022-12-14T10:24:12.009341Z"
    },
    "origin_pos": 24,
    "tab": [
     "jax"
    ]
   },
   "outputs": [
    {
     "data": {
      "text/plain": [
       "(Array([ 0.09000139,  0.05019319,  0.22662596, -0.3504947 ], dtype=float32),\n",
       " Array([[42.],\n",
       "        [42.],\n",
       "        [42.],\n",
       "        [42.],\n",
       "        [42.],\n",
       "        [42.],\n",
       "        [42.],\n",
       "        [42.]], dtype=float32))"
      ]
     },
     "execution_count": 4,
     "metadata": {},
     "output_type": "execute_result"
    }
   ],
   "source": [
    "net = nn.Sequential([nn.Dense(8, kernel_init=nn.initializers.xavier_uniform(),\n",
    "                              bias_init=bias_init),\n",
    "                     nn.relu,\n",
    "                     nn.Dense(1, kernel_init=nn.initializers.constant(42),\n",
    "                              bias_init=bias_init)])\n",
    "\n",
    "params = net.init(jax.random.PRNGKey(d2l.get_seed()), X)\n",
    "params['params']['layers_0']['kernel'][:, 0], params['params']['layers_2']['kernel']"
   ]
  },
  {
   "cell_type": "markdown",
   "id": "35bb5efa",
   "metadata": {
    "origin_pos": 25
   },
   "source": [
    "### [**Custom Initialization**]\n",
    "\n",
    "Sometimes, the initialization methods we need\n",
    "are not provided by the deep learning framework.\n",
    "In the example below, we define an initializer\n",
    "for any weight parameter $w$ using the following strange distribution:\n",
    "\n",
    "$$\n",
    "\\begin{aligned}\n",
    "    w \\sim \\begin{cases}\n",
    "        U(5, 10) & \\text{ with probability } \\frac{1}{4} \\\\\n",
    "            0    & \\text{ with probability } \\frac{1}{2} \\\\\n",
    "        U(-10, -5) & \\text{ with probability } \\frac{1}{4}\n",
    "    \\end{cases}\n",
    "\\end{aligned}\n",
    "$$\n"
   ]
  },
  {
   "cell_type": "markdown",
   "id": "a08922bd",
   "metadata": {
    "origin_pos": 29,
    "tab": [
     "jax"
    ]
   },
   "source": [
    "Jax initialization functions take as arguments the `PRNGKey`, `shape` and\n",
    "`dtype`. Here we implement the function `my_init` that returns a desired\n",
    "tensor given the shape and data type.\n"
   ]
  },
  {
   "cell_type": "code",
   "execution_count": 5,
   "id": "e70c8ee0",
   "metadata": {
    "execution": {
     "iopub.execute_input": "2022-12-14T10:24:12.013880Z",
     "iopub.status.busy": "2022-12-14T10:24:12.013202Z",
     "iopub.status.idle": "2022-12-14T10:24:12.202925Z",
     "shell.execute_reply": "2022-12-14T10:24:12.202017Z"
    },
    "origin_pos": 33,
    "tab": [
     "jax"
    ]
   },
   "outputs": [
    {
     "name": "stdout",
     "output_type": "stream",
     "text": [
      "[[ 0.         0.       ]\n",
      " [ 0.         0.       ]\n",
      " [-5.992775   0.       ]\n",
      " [-6.5313935 -7.7249002]]\n"
     ]
    }
   ],
   "source": [
    "def my_init(key, shape, dtype=jnp.float_):\n",
    "    data = jax.random.uniform(key, shape, minval=-10, maxval=10)\n",
    "    return data * (jnp.abs(data) >= 5)\n",
    "\n",
    "net = nn.Sequential([nn.Dense(8, kernel_init=my_init), nn.relu, nn.Dense(1)])\n",
    "params = net.init(d2l.get_key(), X)\n",
    "print(params['params']['layers_0']['kernel'][:, :2])"
   ]
  },
  {
   "cell_type": "markdown",
   "id": "253a2079",
   "metadata": {
    "origin_pos": 35,
    "tab": [
     "jax"
    ]
   },
   "source": [
    "When initializing parameters in JAX and Flax, the the dictionary of parameters\n",
    "returned has a `flax.core.frozen_dict.FrozenDict` type. It is not advisable in\n",
    "the Jax ecosystem to directly alter the values of an array, hence the datatypes\n",
    "are generally immutable. One might use `params.unfreeze()` to make changes.\n"
   ]
  },
  {
   "cell_type": "markdown",
   "id": "d0216fcc",
   "metadata": {
    "origin_pos": 39
   },
   "source": [
    "## Summary\n",
    "\n",
    "We can initialize parameters using built-in and custom initializers.\n",
    "\n",
    "## Exercises\n",
    "\n",
    "Look up the online documentation for more built-in initializers.\n"
   ]
  }
 ],
 "metadata": {
  "language_info": {
   "name": "python"
  }
 },
 "nbformat": 4,
 "nbformat_minor": 5
}