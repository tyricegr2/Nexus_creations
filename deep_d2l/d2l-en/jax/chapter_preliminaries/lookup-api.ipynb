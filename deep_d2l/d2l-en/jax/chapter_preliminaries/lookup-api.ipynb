{
 "cells": [
  {
   "cell_type": "markdown",
   "id": "fd505b0c",
   "metadata": {
    "origin_pos": 1
   },
   "source": [
    "# Documentation\n"
   ]
  },
  {
   "cell_type": "markdown",
   "id": "ace8ed05",
   "metadata": {
    "origin_pos": 5
   },
   "source": [
    "## Functions and Classes in a Module\n",
    "\n",
    "In order to know which functions and classes can be called in a module,\n",
    "we invoke the `dir` function. For instance, we can\n",
    "(**query all properties in the module for generating random numbers**):\n"
   ]
  },
  {
   "cell_type": "code",
   "execution_count": 1,
   "id": "da0e4715",
   "metadata": {
    "execution": {
     "iopub.execute_input": "2022-12-14T10:28:37.503145Z",
     "iopub.status.busy": "2022-12-14T10:28:37.502451Z",
     "iopub.status.idle": "2022-12-14T10:28:38.027855Z",
     "shell.execute_reply": "2022-12-14T10:28:38.027044Z"
    },
    "origin_pos": 9,
    "tab": [
     "jax"
    ]
   },
   "outputs": [
    {
     "name": "stdout",
     "output_type": "stream",
     "text": [
      "['KeyArray', 'PRNGKey', 'PRNGKeyArray', '_PRNGKeyArray', '__builtins__', '__cached__', '__doc__', '__file__', '__loader__', '__name__', '__package__', '__spec__', 'ball', 'bernoulli', 'beta', 'categorical', 'cauchy', 'choice', 'default_prng_impl', 'dirichlet', 'double_sided_maxwell', 'exponential', 'fold_in', 'gamma', 'generalized_normal', 'gumbel', 'key_data', 'laplace', 'loggamma', 'logistic', 'maxwell', 'multivariate_normal', 'normal', 'orthogonal', 'pareto', 'permutation', 'poisson', 'rademacher', 'randint', 'random_gamma_p', 'rbg_key', 'shuffle', 'split', 't', 'threefry2x32_key', 'threefry2x32_p', 'threefry_2x32', 'truncated_normal', 'typing', 'uniform', 'unsafe_rbg_key', 'weibull_min']\n"
     ]
    }
   ],
   "source": [
    "import jax\n",
    "\n",
    "print(dir(jax.random))"
   ]
  },
  {
   "cell_type": "markdown",
   "id": "a9b80ab2",
   "metadata": {
    "origin_pos": 10
   },
   "source": [
    "Generally, we can ignore functions that start and end with `__` (special objects in Python) \n",
    "or functions that start with a single `_`(usually internal functions). \n",
    "Based on the remaining function or attribute names, \n",
    "we might hazard a guess that this module offers \n",
    "various methods for generating random numbers, \n",
    "including sampling from the uniform distribution (`uniform`), \n",
    "normal distribution (`normal`), and multinomial distribution (`multinomial`).\n",
    "\n",
    "## Specific Functions and Classes\n",
    "\n",
    "For more specific instructions on how to use a given function or class,\n",
    "we can invoke the  `help` function. As an example, let's\n",
    "[**explore the usage instructions for tensors' `ones` function**].\n"
   ]
  },
  {
   "cell_type": "code",
   "execution_count": 2,
   "id": "ec89538d",
   "metadata": {
    "execution": {
     "iopub.execute_input": "2022-12-14T10:28:38.031532Z",
     "iopub.status.busy": "2022-12-14T10:28:38.030986Z",
     "iopub.status.idle": "2022-12-14T10:28:38.035686Z",
     "shell.execute_reply": "2022-12-14T10:28:38.034971Z"
    },
    "origin_pos": 14,
    "tab": [
     "jax"
    ]
   },
   "outputs": [
    {
     "name": "stdout",
     "output_type": "stream",
     "text": [
      "Help on function ones in module jax._src.numpy.lax_numpy:\n",
      "\n",
      "ones(shape: Any, dtype: Union[Any, str, numpy.dtype, jax._src.SupportsDType, NoneType] = None) -> jax.Array\n",
      "    Return a new array of given shape and type, filled with ones.\n",
      "    \n",
      "    LAX-backend implementation of :func:`numpy.ones`.\n",
      "    \n",
      "    *Original docstring below.*\n",
      "    \n",
      "    Parameters\n",
      "    ----------\n",
      "    shape : int or sequence of ints\n",
      "        Shape of the new array, e.g., ``(2, 3)`` or ``2``.\n",
      "    dtype : data-type, optional\n",
      "        The desired data-type for the array, e.g., `numpy.int8`.  Default is\n",
      "        `numpy.float64`.\n",
      "    \n",
      "    Returns\n",
      "    -------\n",
      "    out : ndarray\n",
      "        Array of ones with the given shape, dtype, and order.\n",
      "\n"
     ]
    }
   ],
   "source": [
    "help(jax.numpy.ones)"
   ]
  },
  {
   "cell_type": "markdown",
   "id": "af21e256",
   "metadata": {
    "origin_pos": 15
   },
   "source": [
    "From the documentation, we can see that the `ones` function \n",
    "creates a new tensor with the specified shape \n",
    "and sets all the elements to the value of 1. \n",
    "Whenever possible, you should (**run a quick test**) \n",
    "to confirm your interpretation:\n"
   ]
  },
  {
   "cell_type": "code",
   "execution_count": 3,
   "id": "83c3b43f",
   "metadata": {
    "execution": {
     "iopub.execute_input": "2022-12-14T10:28:38.038951Z",
     "iopub.status.busy": "2022-12-14T10:28:38.038439Z",
     "iopub.status.idle": "2022-12-14T10:28:40.451258Z",
     "shell.execute_reply": "2022-12-14T10:28:40.450425Z"
    },
    "origin_pos": 19,
    "tab": [
     "jax"
    ]
   },
   "outputs": [
    {
     "name": "stdout",
     "output_type": "stream",
     "text": [
      "No GPU/TPU found, falling back to CPU. (Set TF_CPP_MIN_LOG_LEVEL=0 and rerun for more info.)\n"
     ]
    },
    {
     "data": {
      "text/plain": [
       "Array([1., 1., 1., 1.], dtype=float32)"
      ]
     },
     "execution_count": 3,
     "metadata": {},
     "output_type": "execute_result"
    }
   ],
   "source": [
    "jax.numpy.ones(4)"
   ]
  },
  {
   "cell_type": "markdown",
   "id": "6a8277ac",
   "metadata": {
    "origin_pos": 20
   },
   "source": [
    "In the Jupyter notebook, we can use `?` to display the document in another\n",
    "window. For example, `list?` will create content\n",
    "that is almost identical to `help(list)`,\n",
    "displaying it in a new browser window.\n",
    "In addition, if we use two question marks, such as `list??`,\n",
    "the Python code implementing the function will also be displayed.\n",
    "\n",
    "The official documentation provides plenty of descriptions and examples that are beyond this book. \n",
    "Our emphasis lies on covering important use cases \n",
    "that will allow you to get started quickly with practical problems, \n",
    "rather than completeness of coverage. \n",
    "We also encourage you to study the source code of the libraries \n",
    "to see examples of high quality implementations for production code. \n",
    "By doing this you will become a better engineer \n",
    "in addition to becoming a better scientist.\n"
   ]
  }
 ],
 "metadata": {
  "language_info": {
   "name": "python"
  }
 },
 "nbformat": 4,
 "nbformat_minor": 5
}