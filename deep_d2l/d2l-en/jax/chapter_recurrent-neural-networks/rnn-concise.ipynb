{
 "cells": [
  {
   "cell_type": "markdown",
   "id": "b24024ae",
   "metadata": {
    "origin_pos": 0
   },
   "source": [
    "# Concise Implementation of Recurrent Neural Networks\n",
    ":label:`sec_rnn-concise`\n",
    "\n",
    "Like most of our from-scratch implementations,\n",
    ":numref:`sec_rnn-scratch` was designed \n",
    "to provide insight into how each component works.\n",
    "But when you're using RNNs every day \n",
    "or writing production code,\n",
    "you'll want to rely more on libraries\n",
    "that cut down on both implementation time \n",
    "(by supplying library code for common models and functions)\n",
    "and computation time \n",
    "(by optimizing the heck out of these library implementations).\n",
    "This section will show you how to implement \n",
    "the same language model more efficiently\n",
    "using the high-level API provided \n",
    "by your deep learning framework.\n",
    "We begin, as before, by loading \n",
    "*The Time Machine* dataset.\n"
   ]
  },
  {
   "cell_type": "code",
   "execution_count": 1,
   "id": "1ddc6fe3",
   "metadata": {
    "execution": {
     "iopub.execute_input": "2022-12-14T10:22:03.504509Z",
     "iopub.status.busy": "2022-12-14T10:22:03.503923Z",
     "iopub.status.idle": "2022-12-14T10:22:09.778983Z",
     "shell.execute_reply": "2022-12-14T10:22:09.778071Z"
    },
    "origin_pos": 5,
    "tab": [
     "jax"
    ]
   },
   "outputs": [
    {
     "name": "stdout",
     "output_type": "stream",
     "text": [
      "No GPU/TPU found, falling back to CPU. (Set TF_CPP_MIN_LOG_LEVEL=0 and rerun for more info.)\n"
     ]
    }
   ],
   "source": [
    "from flax import linen as nn\n",
    "from jax import numpy as jnp\n",
    "from d2l import jax as d2l"
   ]
  },
  {
   "cell_type": "markdown",
   "id": "dcda9131",
   "metadata": {
    "origin_pos": 6
   },
   "source": [
    "## [**Defining the Model**]\n",
    "\n",
    "We define the following class\n",
    "using the RNN implemented\n",
    "by high-level APIs.\n"
   ]
  },
  {
   "cell_type": "markdown",
   "id": "1e1d6e0e",
   "metadata": {
    "origin_pos": 8,
    "tab": [
     "jax"
    ]
   },
   "source": [
    "Flax doesn't provide an RNNCell for concise implementation of Vanilla RNNs\n",
    "as of today. There are more advanced variants of RNNs like LSTMs and GRUs\n",
    "which are available in the Flax `linen` API.\n"
   ]
  },
  {
   "cell_type": "code",
   "execution_count": 2,
   "id": "d13c5d45",
   "metadata": {
    "execution": {
     "iopub.execute_input": "2022-12-14T10:22:09.783211Z",
     "iopub.status.busy": "2022-12-14T10:22:09.782405Z",
     "iopub.status.idle": "2022-12-14T10:22:09.787507Z",
     "shell.execute_reply": "2022-12-14T10:22:09.786770Z"
    },
    "origin_pos": 12,
    "tab": [
     "jax"
    ]
   },
   "outputs": [],
   "source": [
    "class RNN(nn.Module):  #@save\n",
    "    num_hiddens: int\n",
    "\n",
    "    @nn.compact\n",
    "    def __call__(self, inputs, H=None):\n",
    "        raise NotImplementedError"
   ]
  },
  {
   "cell_type": "markdown",
   "id": "d0618c01",
   "metadata": {
    "origin_pos": 13
   },
   "source": [
    "Inheriting from the `RNNLMScratch` class in :numref:`sec_rnn-scratch`, \n",
    "the following `RNNLM` class defines a complete RNN-based language model.\n",
    "Note that we need to create a separate fully connected output layer.\n"
   ]
  },
  {
   "cell_type": "code",
   "execution_count": 3,
   "id": "dcb3b9d7",
   "metadata": {
    "execution": {
     "iopub.execute_input": "2022-12-14T10:22:09.790842Z",
     "iopub.status.busy": "2022-12-14T10:22:09.790246Z",
     "iopub.status.idle": "2022-12-14T10:22:09.796360Z",
     "shell.execute_reply": "2022-12-14T10:22:09.795628Z"
    },
    "origin_pos": 15,
    "tab": [
     "jax"
    ]
   },
   "outputs": [],
   "source": [
    "class RNNLM(d2l.RNNLMScratch):  #@save\n",
    "    training: bool = True\n",
    "\n",
    "    def setup(self):\n",
    "        self.linear = nn.Dense(self.vocab_size)\n",
    "\n",
    "    def output_layer(self, hiddens):\n",
    "        return self.linear(hiddens).swapaxes(0, 1)\n",
    "\n",
    "    def forward(self, X, state=None):\n",
    "        embs = self.one_hot(X)\n",
    "        rnn_outputs, _ = self.rnn(embs, state, self.training)\n",
    "        return self.output_layer(rnn_outputs)"
   ]
  },
  {
   "cell_type": "markdown",
   "id": "eeef5def",
   "metadata": {
    "origin_pos": 16
   },
   "source": [
    "## Training and Predicting\n",
    "\n",
    "Before training the model, let's [**make a prediction \n",
    "with a model initialized with random weights.**]\n",
    "Given that we have not trained the network, \n",
    "it will generate nonsensical predictions.\n"
   ]
  },
  {
   "cell_type": "markdown",
   "id": "bd8c1969",
   "metadata": {
    "origin_pos": 18
   },
   "source": [
    "Next, we [**train our model, leveraging the high-level API**].\n"
   ]
  },
  {
   "cell_type": "markdown",
   "id": "b9b41005",
   "metadata": {
    "origin_pos": 20
   },
   "source": [
    "Compared with :numref:`sec_rnn-scratch`,\n",
    "this model achieves comparable perplexity,\n",
    "but runs faster due to the optimized implementations.\n",
    "As before, we can generate predicted tokens \n",
    "following the specified prefix string.\n"
   ]
  },
  {
   "cell_type": "markdown",
   "id": "bd7c16b2",
   "metadata": {
    "origin_pos": 23
   },
   "source": [
    "## Summary\n",
    "\n",
    "High-level APIs in deep learning frameworks provide implementations of standard RNNs.\n",
    "These libraries help you to avoid wasting time reimplementing standard models.\n",
    "Moreover,\n",
    "framework implementations are often highly optimized, \n",
    "  leading to significant (computational) performance gains \n",
    "  as compared to implementations from scratch.\n",
    "\n",
    "## Exercises\n",
    "\n",
    "1. Can you make the RNN model overfit using the high-level APIs?\n",
    "1. Implement the autoregressive model of :numref:`sec_sequence` using an RNN.\n"
   ]
  }
 ],
 "metadata": {
  "language_info": {
   "name": "python"
  }
 },
 "nbformat": 4,
 "nbformat_minor": 5
}